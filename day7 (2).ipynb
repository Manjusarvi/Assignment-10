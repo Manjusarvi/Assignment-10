{
 "cells": [
  {
   "cell_type": "markdown",
   "metadata": {},
   "source": [
    "# Write a program to copy the contents of one file to another using a for loop."
   ]
  },
  {
   "cell_type": "code",
   "execution_count": 48,
   "metadata": {},
   "outputs": [],
   "source": [
    "f=open(\"tin.text\",'w')\n",
    "f.write(\" Day 07 | Python Functions-2 By Dr. Darshan Sir\")\n",
    "f.close()"
   ]
  },
  {
   "cell_type": "code",
   "execution_count": 49,
   "metadata": {},
   "outputs": [],
   "source": [
    "f1=open(\"tout.text\",'w')\n",
    "f=open(\"tin.text\")\n",
    "for line in f:\n",
    "    f1.write(line)"
   ]
  },
  {
   "cell_type": "markdown",
   "metadata": {},
   "source": [
    "# Write a Python program to find maximum and minimum values in the dictionary."
   ]
  },
  {
   "cell_type": "code",
   "execution_count": 56,
   "metadata": {},
   "outputs": [
    {
     "name": "stdout",
     "output_type": "stream",
     "text": [
      "GameOfThrones\n"
     ]
    }
   ],
   "source": [
    "Tv = {'BreakingBad':100, 'GameOfThrones':1292, 'TMKUC' : 88} \n",
    "valuemax = max(Tv, key =Tv.get) \n",
    "print(valuemax)"
   ]
  }
 ],
 "metadata": {
  "kernelspec": {
   "display_name": "Python 3",
   "language": "python",
   "name": "python3"
  },
  "language_info": {
   "codemirror_mode": {
    "name": "ipython",
    "version": 3
   },
   "file_extension": ".py",
   "mimetype": "text/x-python",
   "name": "python",
   "nbconvert_exporter": "python",
   "pygments_lexer": "ipython3",
   "version": "3.7.3"
  }
 },
 "nbformat": 4,
 "nbformat_minor": 2
}
